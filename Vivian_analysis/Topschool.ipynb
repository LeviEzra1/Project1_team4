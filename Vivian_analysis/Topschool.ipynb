{
 "cells": [
  {
   "cell_type": "code",
   "execution_count": 8,
   "metadata": {},
   "outputs": [],
   "source": [
    "#Import dependants\n",
    "import matplotlib.pyplot as plt\n",
    "import pandas as pd\n",
    "import numpy as np\n",
    "import scipy.stats as st\n",
    "import us\n",
    "from pathlib import Path\n",
    "from datetime import datetime"
   ]
  },
  {
   "cell_type": "code",
   "execution_count": 10,
   "metadata": {},
   "outputs": [
    {
     "data": {
      "text/plain": [
       "<bound method DataFrame.sort_values of                           School     Race  Killed  Injured   Longitude  \\\n",
       "0          Columbine High School        W      13       21 -105.075000   \n",
       "1    Scotlandville Middle School  Unknown       0        1  -91.169966   \n",
       "2           Heritage High School        W       0        6  -84.047960   \n",
       "3           Deming Middle School        H       1        0 -107.762986   \n",
       "4      Fort Gibson Middle School       Ai       0        5  -95.241921   \n",
       "..                           ...      ...     ...      ...         ...   \n",
       "312     William Penn High School  Unknown       0        0  -75.584879   \n",
       "313     Taylorsville High School  Unknown       0        0 -111.936978   \n",
       "314        Palo Duro High School  Unknown       0        1 -101.824434   \n",
       "315         Anniston High School  Unknown       0        1  -85.820000   \n",
       "316     George Wythe High School  Unknown       0        2  -77.483075   \n",
       "\n",
       "      Latitude  Year          City       State  \\\n",
       "0    39.603910  1999     Littleton    Colorado   \n",
       "1    30.529958  1999   Baton Rouge   Louisiana   \n",
       "2    33.626922  1999       Conyers     Georgia   \n",
       "3    32.261547  1999        Deming  New Mexico   \n",
       "4    35.795556  1999   Fort Gibson    Oklahoma   \n",
       "..         ...   ...           ...         ...   \n",
       "312  39.668622  2023    New Castle    Delaware   \n",
       "313  40.655508  2023  Taylorsville        Utah   \n",
       "314  35.228498  2023      Amarillo       Texas   \n",
       "315  33.661200  2023      Anniston     Alabama   \n",
       "316  37.510274  2023      Richmond    Virginia   \n",
       "\n",
       "                                                Weapon  ...  \\\n",
       "0    12-Gauge Savage-Springfield 67H Pump-Action Sh...  ...   \n",
       "1                                   .22 Caliber Pistol  ...   \n",
       "2        .22 Caliber Rifle, 357-Caliber Magnum Handgun  ...   \n",
       "3                            .22-Caliber Colt Revolver  ...   \n",
       "4                                    Taurus 9Mm Pistol  ...   \n",
       "..                                                 ...  ...   \n",
       "312                                            Handgun  ...   \n",
       "313                                            Unknown  ...   \n",
       "314                                            Unknown  ...   \n",
       "315                                            Unknown  ...   \n",
       "316                                            Unknown  ...   \n",
       "\n",
       "         Shooter_Relationship1           Type        Date      Time Bullied  \\\n",
       "0                      Student    High School  04/20/1999  11:19 AM     Yes   \n",
       "1    Former Student (Expelled)  Middle School  04/22/1999  12:30 PM      No   \n",
       "2                      Student    High School  05/20/1999   8:03 AM      No   \n",
       "3                      Student  Middle School  11/19/1999  12:45 PM      No   \n",
       "4                      Student  Middle School  12/06/1999   7:45 AM      No   \n",
       "..                         ...            ...         ...       ...     ...   \n",
       "312                    Student    High School  01/08/2009   8:30 PM      No   \n",
       "313                    Student    High School  10/12/2001   Unknown      No   \n",
       "314                    Unknown    High School  09/11/1992  10:00 AM      No   \n",
       "315                    Student    High School  04/30/1982   7:25 AM      No   \n",
       "316                    Student    High School  05/19/2022  14:13:00      No   \n",
       "\n",
       "    Domestic_Violence Gang_Related Preplanned Quarter  \\\n",
       "0                  No           No        Yes  Spring   \n",
       "1                  No           No         No  Spring   \n",
       "2                  No           No        Yes  Spring   \n",
       "3                  No           No         No    Fall   \n",
       "4                  No           No         No  Winter   \n",
       "..                ...          ...        ...     ...   \n",
       "312                No           No         No  Winter   \n",
       "313                No           No         No    Fall   \n",
       "314                No           No         No    Fall   \n",
       "315                No           No         No  Spring   \n",
       "316                No      Unknown         No  Spring   \n",
       "\n",
       "                       Location  \n",
       "0                     Cafeteria  \n",
       "1               Beside Building  \n",
       "2                       Hallway  \n",
       "3    Outside on School Property  \n",
       "4               Front of School  \n",
       "..                          ...  \n",
       "312                         Gym  \n",
       "313                     Hallway  \n",
       "314                     Hallway  \n",
       "315                 Parking Lot  \n",
       "316                 Parking Lot  \n",
       "\n",
       "[317 rows x 23 columns]>"
      ]
     },
     "execution_count": 10,
     "metadata": {},
     "output_type": "execute_result"
    }
   ],
   "source": [
    "final_data_path = Path(\"../Final_Analysis/Final_Data.csv\")\n",
    "final_data_read = pd.read_csv(final_data_path)\n",
    "final_data_df = pd.DataFrame(final_data_read)\n",
    "final_data_df.sort_values"
   ]
  }
 ],
 "metadata": {
  "kernelspec": {
   "display_name": "base",
   "language": "python",
   "name": "python3"
  },
  "language_info": {
   "codemirror_mode": {
    "name": "ipython",
    "version": 3
   },
   "file_extension": ".py",
   "mimetype": "text/x-python",
   "name": "python",
   "nbconvert_exporter": "python",
   "pygments_lexer": "ipython3",
   "version": "3.11.7"
  }
 },
 "nbformat": 4,
 "nbformat_minor": 2
}
