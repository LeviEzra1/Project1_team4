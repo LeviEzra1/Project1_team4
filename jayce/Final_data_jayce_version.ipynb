{
 "cells": [
  {
   "cell_type": "code",
   "execution_count": null,
   "metadata": {},
   "outputs": [],
   "source": [
    "#Import dependants\n",
    "import matplotlib.pyplot as plt\n",
    "import pandas as pd\n",
    "import numpy as np\n",
    "import scipy.stats as st\n",
    "import us\n",
    "from pathlib import Path\n",
    "from datetime import datetime"
   ]
  },
  {
   "cell_type": "markdown",
   "metadata": {},
   "source": [
    "(to find the full names of the states for shd_df, I had to import \"us\". To do this, type \"pip install us\" on a random cell, once installed, delete and then restart kernel to use)"
   ]
  },
  {
   "cell_type": "markdown",
   "metadata": {},
   "source": [
    "# Data Cleaning\n",
    "### Preparing for Analysis"
   ]
  },
  {
   "cell_type": "code",
   "execution_count": null,
   "metadata": {},
   "outputs": [],
   "source": [
    "CSV1Kpath = Path(\"Resources/Kaggle1DS.csv\")\n",
    "CSV2Kpath = Path(\"Resources/Kaggle2DS.csv\")\n",
    "CSV3Xpath = Path(\"Resources/SHD.csv\")\n",
    "CSV1KR = pd.read_csv(CSV1Kpath)\n",
    "CSV2KR = pd.read_csv(CSV2Kpath)\n",
    "CSV3XR = pd.read_csv(CSV3Xpath)"
   ]
  },
  {
   "cell_type": "code",
   "execution_count": null,
   "metadata": {},
   "outputs": [],
   "source": [
    "#Data frames\n",
    "kaggle_1_df = pd.DataFrame(CSV1KR)\n",
    "kaggle_2_df = pd.DataFrame(CSV2KR)\n",
    "shd_df = pd.DataFrame(CSV3XR)"
   ]
  },
  {
   "cell_type": "markdown",
   "metadata": {},
   "source": [
    "### Cleaning Kaggle 1 df"
   ]
  },
  {
   "cell_type": "code",
   "execution_count": null,
   "metadata": {},
   "outputs": [],
   "source": [
    "#kaggle_1_df"
   ]
  },
  {
   "cell_type": "code",
   "execution_count": null,
   "metadata": {},
   "outputs": [],
   "source": [
    "# Organizing columns in desired order #update: took out address\n",
    "clean_1_df = pd.DataFrame(kaggle_1_df[[\"school\",\"type\",\"year\",\"date\",\"time\",\"city\",\"state\",\"urbanrural\",\"race\",\"killed\",\"injured\",\"victims\",\"LONCOD\",\"LATCOD\"]])\n",
    "\n",
    "# Convert \"Date\" column to datetime\n",
    "clean_1_df[\"date\"] = pd.to_datetime(clean_1_df[\"date\"])\n",
    "\n",
    "# Format the 'Date' column for display\n",
    "clean_1_df[\"date\"] = clean_1_df[\"date\"].dt.strftime('%m/%d/%Y')\n",
    "\n",
    "# Renaming the columns\n",
    "clean_1_df.rename(columns={\"urbanrural\": \"City Type\", \"LONCOD\": \"Longitude\",\"LATCOD\": \"Latitude\"}, inplace=True)\n",
    "\n",
    "# Proper case the columns\n",
    "clean_1_df.columns = [col.title() if col.islower() else col for col in clean_1_df]\n",
    "\n",
    "# Proper case the rows\n",
    "clean_1_df = clean_1_df.map(lambda x: x.title() if isinstance(x, str) else x)\n",
    "\n",
    "# Replace NaN with \"Unknown\"\n",
    "clean_1_df = clean_1_df.fillna(\"Unknown\")\n",
    "\n",
    "\n",
    "# Adding the newly labeled data into a new csv for cleanliness\n",
    "clean_1_path = Path(\"Outputs/clean_1_final.csv\")\n",
    "clean_1_df.to_csv(clean_1_path, index=False)\n",
    "\n",
    "clean_1_df.head()"
   ]
  },
  {
   "cell_type": "code",
   "execution_count": null,
   "metadata": {},
   "outputs": [],
   "source": [
    "# Load the dataset as a DataFrame\n",
    "clean_2_df = pd.DataFrame(kaggle_2_df)\n",
    "\n",
    "# Added a \"Victims\" column to match other datasets for easier merging\n",
    "clean_2_df[\"Victims\"] = clean_2_df[\"killed\"] + clean_2_df[\"injured\"]\n",
    "\n",
    "# Organizing available columns in desired order\n",
    "reorganized_clean_2_df = clean_2_df[[\"school\",\"year\",\"date\",\"time\",\"city\",\"state\",\"killed\",\"injured\", \"Victims\", \"long\",\"lat\",\"weapon\",\n",
    "                                       \"weapon_source\",\"age_shooter1\",\"gender_shooter1\",\"race_ethnicity_shooter1\",\"shooter_relationship1\"]]\n",
    "\n",
    "# Convert \"Date\" column to datetime\n",
    "reorganized_clean_2_df[\"date\"] = pd.to_datetime(reorganized_clean_2_df[\"date\"])\n",
    "\n",
    "# Format the 'Date' column for display\n",
    "reorganized_clean_2_df[\"date\"] = reorganized_clean_2_df[\"date\"].dt.strftime(\"%m/%d/%Y\")\n",
    "\n",
    "# Renaming the columns\n",
    "reorganized_clean_2_df.rename(columns={\"long\": \"Longitude\",\"lat\": \"Latitude\",\"weapon_source\":\"Weapon Source\", \"age_shooter1\":\"Age\",\n",
    "                           \"race_ethnicity_shooter1\":\"Race\",}, inplace=True)\n",
    "\n",
    "# Proper case the columns\n",
    "reorganized_clean_2_df.columns = [col.title() if col.islower() else col for col in reorganized_clean_2_df]\n",
    "\n",
    "# Proper case the rows\n",
    "reorganized_clean_2_df = reorganized_clean_2_df.map(lambda x: x.title() if isinstance(x, str) else x)\n",
    "\n",
    "# Extract school type from the 'School' column and put it in the 'Type' column\n",
    "reorganized_clean_2_df.loc[reorganized_clean_2_df[\"School\"].str.contains(\"High School\", case=False, na=False), \"Type\"] = \"High School\"\n",
    "reorganized_clean_2_df.loc[reorganized_clean_2_df[\"School\"].str.contains(\"Middle School\", case=False, na=False), \"Type\"] = \"Middle School\"\n",
    "reorganized_clean_2_df.loc[reorganized_clean_2_df[\"School\"].str.contains(\"Elementary School\", case=False, na=False), \"Type\"] = \"Elementary School\"\n",
    "reorganized_clean_2_df.loc[reorganized_clean_2_df[\"School\"].str.contains(\"Junior High\", case=False, na=False), \"Type\"] = \"Middle School\"\n",
    "\n",
    "# Rearranging new columns and the first dataframe into desired order\n",
    "reorganized_clean_2_df = pd.DataFrame(reorganized_clean_2_df[[\"School\",\"Type\",\"Year\",\"Date\",\"Time\",\"City\",\"State\",\"Race\",\"Killed\",\"Injured\", \"Victims\",\n",
    "                                     \"Longitude\",\"Latitude\",\n",
    "                                      \"Weapon\",\"Weapon Source\",\"Age\",\"Gender_Shooter1\",\"Shooter_Relationship1\"]])\n",
    "\n",
    "# Replace NaN with \"Unknown\"\n",
    "reorganized_clean_2_df = reorganized_clean_2_df.fillna(\"Unknown\")\n",
    "\n",
    "# Adding the newly labeled data into a new csv for cleanliness\n",
    "clean_2_path = Path(\"Outputs/clean_2_final.csv\")\n",
    "reorganized_clean_2_df.to_csv(clean_2_path, index=False)\n",
    "\n",
    "reorganized_clean_2_df.head()\n"
   ]
  },
  {
   "cell_type": "markdown",
   "metadata": {},
   "source": [
    "### Cleaning shd_df"
   ]
  },
  {
   "cell_type": "code",
   "execution_count": null,
   "metadata": {},
   "outputs": [],
   "source": [
    "shd_df"
   ]
  },
  {
   "cell_type": "code",
   "execution_count": null,
   "metadata": {},
   "outputs": [],
   "source": [
    "# Organizing available columns in desired order\n",
    "clean_3_df = pd.DataFrame(shd_df[[\"school\",\"School_Level\",\"Date\",\"City\",\"State\",\"First_Shot\",\"Bullied\",\"Domestic_Violence\",\"Gang_Related\",\"Preplanned\",\"Quarter\",\"Location\"]])\n",
    "\n",
    "# Convert \"Date\" column to datetime\n",
    "clean_3_df[\"Date\"] = pd.to_datetime(clean_3_df[\"Date\"])\n",
    "\n",
    "# Create the \"Year\" column by extracting the year from the \"Date\" column\n",
    "clean_3_df['Year'] = clean_3_df['Date'].dt.year\n",
    "\n",
    "# Format the 'Date' column for display\n",
    "clean_3_df[\"Date\"] = clean_3_df[\"Date\"].dt.strftime('%m/%d/%Y')\n",
    "\n",
    "# Renaming the columns\n",
    "clean_3_df.rename(columns={\"school\":\"School\", \"School_Level\": \"Type\",\"First_Shot\": \"Time\"}, inplace=True)\n",
    "\n",
    "# Proper case the columns\n",
    "clean_3_df.columns = [col.title() if col.islower() else col for col in clean_3_df]\n",
    "\n",
    "#\"weapon\", \"weapon_source\",\"age_shooter1\",\"gender_shooter1\",\"race_ethnicity_shooter1\",\"shooter_relationship1\"\n",
    "\n",
    "# Extract school type from the 'School' column and put it in the 'Type' column\n",
    "clean_3_df.loc[clean_3_df[\"School\"].str.contains(\"High School\", case=False, na=False), \"Type\"] = \"High School\"\n",
    "clean_3_df.loc[clean_3_df[\"School\"].str.contains(\"Middle School\", case=False, na=False), \"Type\"] = \"Middle School\"\n",
    "clean_3_df.loc[clean_3_df[\"School\"].str.contains(\"Elementary School\", case=False, na=False), \"Type\"] = \"Elementary School\"\n",
    "clean_3_df.loc[clean_3_df[\"School\"].str.contains(\"Junior High\", case=False, na=False), \"Type\"] = \"Middle School\"\n",
    "\n",
    "# Map state abbreviations to full state names using us package\n",
    "def get_full_state_name(abbrev):\n",
    "    try:\n",
    "        return us.states.lookup(abbrev).name\n",
    "    except AttributeError:\n",
    "        return abbrev\n",
    "\n",
    "clean_3_df[\"State\"] = clean_3_df[\"State\"].apply(get_full_state_name)\n",
    "\n",
    "# Rearranging new columns and the first dataframe into desired order\n",
    "clean_3_df = pd.DataFrame(clean_3_df[[\"School\",\"Type\",\"Date\",\"City\",\"State\",\"Time\",\"Bullied\",\"Domestic_Violence\",\"Gang_Related\",\"Preplanned\",\"Quarter\",\"Location\"]])\n",
    "\n",
    "# Replace NaN with \"Unknown\"\n",
    "clean_3_df = clean_3_df.fillna(\"Unknown\")\n",
    "\n",
    "# Adding the newly labeled data into a new csv for cleanliness\n",
    "clean_3_path = Path(\"Outputs/clean_3_final.csv\")\n",
    "clean_3_df.to_csv(clean_3_path, index=False)\n",
    "\n",
    "clean_3_df.head()"
   ]
  },
  {
   "cell_type": "markdown",
   "metadata": {},
   "source": [
    "### Merging Data Frames"
   ]
  },
  {
   "cell_type": "markdown",
   "metadata": {},
   "source": [
    "drop: \"Type_x\",\"Year_x\",\"Date_x\",\"Time_x\",\"City_x\",\"State_x\""
   ]
  },
  {
   "cell_type": "code",
   "execution_count": null,
   "metadata": {},
   "outputs": [],
   "source": [
    "# Merging First dfs\n",
    "merged_df = pd.merge(clean_1_df, reorganized_clean_2_df, on=[\"School\",\"Race\", \"Killed\", \"Injured\", \"Victims\", \"Longitude\", \"Latitude\"], how=\"right\") \n",
    "clean_merge_df = merged_df.drop([\"Type_x\",\"Year_x\",\"Date_x\",\"Time_x\",\"City_x\",\"State_x\"],axis = 1)\n",
    "\n",
    "# Renaming City for final merge\n",
    "clean_merge_df.rename(columns={\"City_y\": \"City\",\"Type_y\": \"Type\",\"Year_y\":\"Year\",\"Date_y\":\"Date\",\"Time_y\":\"Time\",\"State_y\":\"State\"}, inplace=True)\n",
    "\n",
    "clean_merge_df.columns"
   ]
  },
  {
   "cell_type": "markdown",
   "metadata": {},
   "source": [
    "drop: \"City Type\", \"Victims\",\"Type_x\",\"Date_x\",\"State_y\",\"Time_x\""
   ]
  },
  {
   "cell_type": "code",
   "execution_count": null,
   "metadata": {},
   "outputs": [],
   "source": [
    "# Final Merge\n",
    "final_df = pd.merge(clean_merge_df, clean_3_df, on=[\"School\",\"City\"])\n",
    "final_df_merged = final_df.drop([\"City Type\",\"Type_x\",\"Date_x\",\"State_y\",\"Time_x\"],axis = 1)\n",
    "\n",
    "# Renaming City for final merge\n",
    "final_df_merged.rename(columns={\"Type_y\": \"Type\",\"Date_y\": \"Date\",\"Time_y\":\"Time\",\"State_x\":\"State\"}, inplace=True)\n",
    "\n",
    "# Dropping duplicates in our final DataFrame\n",
    "clean_final_df = final_df_merged.drop_duplicates(subset=\"Date\")\n",
    "\n",
    "# Adding the newly labeled data into a new CSV for easier access and analysis\n",
    "final_path = Path(\"Outputs/Clean_Final_Data.csv\")\n",
    "clean_final_df.to_csv(final_path, index=False)\n",
    "\n",
    "# Display Final Dataframe\n",
    "clean_final_df"
   ]
  },
  {
   "cell_type": "markdown",
   "metadata": {},
   "source": [
    "# Analyzing the Data"
   ]
  },
  {
   "cell_type": "code",
   "execution_count": null,
   "metadata": {},
   "outputs": [],
   "source": [
    "# Annual analysis of # of incidents by year\n",
    "year_school_df = clean_final_merge.groupby(\"Year\")\n",
    "\n",
    "#Count of incidents per year\n",
    "count_year_incident = year_school_df['Year'].count()\n",
    "\n",
    "count_year_incident"
   ]
  },
  {
   "cell_type": "code",
   "execution_count": null,
   "metadata": {},
   "outputs": [],
   "source": [
    "# Create a bar chart\n",
    "annual_chart = count_year_incident.plot(kind=\"bar\", figsize=(20,8))\n",
    "\n",
    "# Rotate x-axis labels\n",
    "plt.xticks(rotation=45)\n",
    "plt.xlabel(\"Incidents\")\n",
    "plt.ylabel(\"# of Incidents\")\n",
    "plt.title(\"Incidents per Year\")\n",
    "\n",
    "plt.show()"
   ]
  }
 ],
 "metadata": {
  "kernelspec": {
   "display_name": "base",
   "language": "python",
   "name": "python3"
  },
  "language_info": {
   "codemirror_mode": {
    "name": "ipython",
    "version": 3
   },
   "file_extension": ".py",
   "mimetype": "text/x-python",
   "name": "python",
   "nbconvert_exporter": "python",
   "pygments_lexer": "ipython3",
   "version": "3.11.7"
  }
 },
 "nbformat": 4,
 "nbformat_minor": 2
}
