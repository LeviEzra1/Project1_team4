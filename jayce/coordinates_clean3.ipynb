{
 "cells": [
  {
   "cell_type": "code",
   "execution_count": null,
   "metadata": {},
   "outputs": [],
   "source": [
    "#Import dependants\n",
    "import pandas as pd\n",
    "from pathlib import Path\n",
    "import requests\n",
    "import json\n",
    "from pprint import pprint\n",
    "\n",
    "from api_keys import geoapify_key"
   ]
  },
  {
   "cell_type": "code",
   "execution_count": null,
   "metadata": {},
   "outputs": [],
   "source": [
    "# load and read the CSVs\n",
    "clean_3_path = Path(\"Resources/clean_3.csv\")\n",
    "clean_3_df = pd.read_csv(clean_3_path)\n",
    "\n",
    "clean_3_df.head()"
   ]
  },
  {
   "cell_type": "code",
   "execution_count": 3,
   "metadata": {},
   "outputs": [],
   "source": [
    "# Function to geocode a city and state and update the DataFrame\n",
    "def geocode_and_update(city, state, api_key):\n",
    "    query = f\"{city}, {state}\"\n",
    "    url = f\"https://api.geoapify.com/v1/geocode/search?text={query}&apiKey={api_key}\"\n",
    "    response = requests.get(url)\n",
    "    if response.status_code == 200:\n",
    "        data = response.json()\n",
    "        if data['features']:\n",
    "            coordinates = data['features'][0]['geometry']['coordinates']\n",
    "            return coordinates\n",
    "    return None\n",
    "\n",
    "# Example usage: Loop through cities and states in the DataFrame and geocode\n",
    "api_key = geoapify_key\n",
    "clean_3_df['Latitude'] = None  # Create new columns for latitude and longitude\n",
    "clean_3_df['Longitude'] = None\n",
    "for index, row in clean_3_df.iterrows():\n",
    "    city = row['City']\n",
    "    state = row['State']\n",
    "    coordinates = geocode_and_update(city, state, api_key)\n",
    "    if coordinates:\n",
    "        clean_3_df.at[index, 'Latitude'] = coordinates[1]  # Assuming Geoapify returns latitude first\n",
    "        clean_3_df.at[index, 'Longitude'] = coordinates[0]\n",
    "        print(f\"Geocoded {city}, {state}\")\n",
    "    else:\n",
    "        print(f\"Failed to geocode {city}, {state}\")\n",
    "\n",
    "# View new DataFrame\n",
    "clean_3_df.head()"
   ]
  },
  {
   "cell_type": "code",
   "execution_count": null,
   "metadata": {},
   "outputs": [],
   "source": [
    "# Save and Output new DataFrame to new CSV file\n",
    "clean_3_df.to_csv('Outputs/clean_3_updated.csv', index=False)"
   ]
  }
 ],
 "metadata": {
  "kernelspec": {
   "display_name": "base",
   "language": "python",
   "name": "python3"
  },
  "language_info": {
   "codemirror_mode": {
    "name": "ipython",
    "version": 3
   },
   "file_extension": ".py",
   "mimetype": "text/x-python",
   "name": "python",
   "nbconvert_exporter": "python",
   "pygments_lexer": "ipython3",
   "version": "3.11.7"
  }
 },
 "nbformat": 4,
 "nbformat_minor": 2
}
